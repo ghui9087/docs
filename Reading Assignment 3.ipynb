{
 "cells": [
  {
   "cell_type": "markdown",
   "id": "075d60ce",
   "metadata": {},
   "source": [
    "# Reading Assignment 3: Chapter 3 and 4"
   ]
  },
  {
   "cell_type": "markdown",
   "id": "fb986516",
   "metadata": {},
   "source": [
    "**Exercise 1**: Create a Tuple of the densities (in $\\mathrm{kg/m^3}$) of the following substances: Gold $19.3 \\times 10^3$, Lead $11.3 \\times 10^3$, Copper $8.9 \\times 10^3$, Iron $7.8 \\times 10^3$, and Aluminum $2.7 \\times 10^3$. Then, output the 2nd (lead) through the 4th (iron) substances."
   ]
  },
  {
   "cell_type": "markdown",
   "id": "649aaa9a",
   "metadata": {},
   "source": [
    "---"
   ]
  },
  {
   "cell_type": "markdown",
   "id": "e0ec6263",
   "metadata": {},
   "source": [
    "**Exercise 2**: In lab, you take data on a circuit containing a variable power supply and an unknown resistor by measuring the current given different voltages. You collect the following (fictitious) data:\n",
    "\n",
    "|Current (mA)|Voltage (V)|\n",
    "| :--: | :--: | \n",
    "|0.000|0.0|\n",
    "|0.267|0.4|\n",
    "|0.533|0.8|\n",
    "|0.800|1.2|\n",
    "|1.067|1.6|\n",
    "|1.888|2.0|\n",
    "\n",
    "Unfortunately, after storing and creating a line graph of the information, you realize that you made a mistake on the last data point and now need to omit it. Store the original data in lists, then slice them to omit the final data point. Print out the original list and the new list to the console."
   ]
  },
  {
   "cell_type": "markdown",
   "id": "ded0d50d",
   "metadata": {},
   "source": [
    "---"
   ]
  },
  {
   "cell_type": "markdown",
   "id": "966fd137",
   "metadata": {},
   "source": [
    "**Exercise 3**: Write a function, `newvol`, that returns the new volume of a gas that undergoes changes in pressure, and temperature in a closed container.  The equation for this is\n",
    "\n",
    "$$V_2 = \\frac{P_1 \\times V_1 \\times T_2}{T_1 \\times P_2}$$\n",
    "\n",
    "Copy this function to your module `mycss112func.py`."
   ]
  },
  {
   "cell_type": "markdown",
   "id": "e0169506",
   "metadata": {},
   "source": [
    "---"
   ]
  },
  {
   "cell_type": "markdown",
   "id": "be076784",
   "metadata": {},
   "source": [
    "**Exercise 4**: To study the relationship between volume and temperature of a gas, the pressure of the gaseous system is kept constant. Using the function `newvol` you created in , create a list of the temperature values and a second list of the volume values of a gaseous system in which the initial volume is 25 L, initial temperature is 0 $^{\\circ}$C, and the constant pressure is 1.00 atm.  The temperature will range from 0 $^{\\circ}$C to 100 $^{\\circ}$C and increment by 10 $^{\\circ}$C."
   ]
  },
  {
   "cell_type": "markdown",
   "id": "c33c98dc",
   "metadata": {},
   "source": [
    "---"
   ]
  },
  {
   "cell_type": "markdown",
   "id": "db3a4f69",
   "metadata": {},
   "source": [
    "**Exercise 5**: The partial pressure of a gas is dependent on the temperature of that gas. Below is a table of partial pressures of H$_2$O(g) at certain temperatures.\n",
    "\n",
    "\n",
    "|Temperature ($^{\\circ}C$)|Partial Pressure (mmHg)|\n",
    "| :--: | :--: | \n",
    "|5|6.5|\n",
    "|10|9.2|\n",
    "|15|12.8|\n",
    "|20|17.5|\n",
    "|25|23.8|\n",
    "|30|31.8|\n",
    "|35|42.2|\n",
    "|40|55.3|\n",
    "|45|71.9|\n",
    "|50|92.5|\n"
   ]
  },
  {
   "cell_type": "markdown",
   "id": "1abf71e9",
   "metadata": {},
   "source": [
    "Step 1: Using the information in the table, create a list of the temperature values and a second list that contains the partial pressures. Use the print function to see each variables' values."
   ]
  },
  {
   "cell_type": "markdown",
   "id": "d771b686",
   "metadata": {},
   "source": [
    "Step 2: For each list you just created, create a  tuple that contains the same values. Use the print function to see each variables'  values."
   ]
  },
  {
   "cell_type": "markdown",
   "id": "599c63ca",
   "metadata": {},
   "source": [
    "Step 3: In a markdown cell explain the difference between a list and a tuple."
   ]
  }
 ],
 "metadata": {
  "kernelspec": {
   "display_name": "Python 3 (ipykernel)",
   "language": "python",
   "name": "python3"
  },
  "language_info": {
   "codemirror_mode": {
    "name": "ipython",
    "version": 3
   },
   "file_extension": ".py",
   "mimetype": "text/x-python",
   "name": "python",
   "nbconvert_exporter": "python",
   "pygments_lexer": "ipython3",
   "version": "3.9.13"
  }
 },
 "nbformat": 4,
 "nbformat_minor": 5
}
